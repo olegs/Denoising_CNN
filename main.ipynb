{
 "cells": [
  {
   "cell_type": "code",
   "execution_count": 3,
   "metadata": {},
   "outputs": [
    {
     "name": "stderr",
     "output_type": "stream",
     "text": [
      "Using TensorFlow backend.\n"
     ]
    }
   ],
   "source": [
    "import process_data\n",
    "import constants\n",
    "\n"
   ]
  },
  {
   "cell_type": "code",
   "execution_count": 19,
   "metadata": {},
   "outputs": [],
   "source": [
    "'''\n",
    "Specify parameters and launch function to train CNN with data preprocessing\n",
    "\n",
    ":param HISTONE_TARGET: str - name of the target trainig histine modification\n",
    ":param HELPERS: list of str - several histone modifications for model prediction quality improvement\n",
    ":param CHROM_TRAIN: str - name of chromosome for training\n",
    ":param N_TRAIN_2: int - the amount of data for training\n",
    ":param MODEL_NAME_2: str - the output name for the model\n",
    "\n",
    ":result: the model 'MODEL_NAME_2.h5' in the 'CODA_PATH/models' directory\n",
    "'''\n",
    "\n",
    "HISTONE_TARGET = 'k36me3'\n",
    "HELPERS = ['k27ac', 'k4me3']\n",
    "CHROM_TRAIN = 'chr3'\n",
    "N_TRAIN_2 = 10000\n",
    "MODEL_NAME_2 = NAME_EXP + '.' + HISTONE_TARGET + '.' + CHROM_TRAIN + '.n_train_' + str(N_TRAIN_2) + '.h5'\n",
    "\n",
    "train_w_data_preprocessing(HISTONE_TARGET, HELPERS, CHROM_TRAIN, N_TRAIN_2, MODEL_NAME_2)\n"
   ]
  },
  {
   "cell_type": "code",
   "execution_count": 20,
   "metadata": {},
   "outputs": [],
   "source": [
    "'''\n",
    "Specify parameters and launch function to train CNN without data preprocessing\n",
    "\n",
    ":param X_FILES: array with directions to data files(.bedggraph) - the first one is target for quallity improvement, other are helpers\n",
    ":param Y_FILE: direction to data file(.bedggraph) - good quality track for CNN training\n",
    ":param N_TRAIN_1: int - the amount of data for training\n",
    ":param MODEL_NAME_1: str - the output name for the model\n",
    "\n",
    ":result: the model 'MODEL_NAME_1.h5' in the 'CODA_PATH/models' directory\n",
    "'''\n",
    "\n",
    "X_FILES = [DATA_PATH + 'OD8_k36me3.chr3.bad_quality_tr.b25.bedgraph', DATA_PATH + 'OD8_k27ac.chr3.bad_quality_tr.b25.bedgraph', DATA_PATH + 'OD8_k4me3.chr3.bad_quality_tr.b25.bedgraph'] \n",
    "Y_FILE = DATA_PATH + 'OD8_k36me3.chr3.good_quality_tr.b25.bedgraph'\n",
    "N_TRAIN_1 = 10000\n",
    "MODEL_NAME_1 = 'OD8.k36me3.chr3.n_train_' + str(N_TRAIN_1) + '.h5'\n",
    "\n",
    "train_wout_data_preprocessing(X_FILES, Y_FILE, N_TRAIN_1, MODEL_NAME_1)\n",
    "\n"
   ]
  },
  {
   "cell_type": "code",
   "execution_count": 4,
   "metadata": {},
   "outputs": [
    {
     "name": "stdout",
     "output_type": "stream",
     "text": [
      "!! OD8_k36me3.chr3.b25.prediction\n",
      "/Users/dashabalashova/0_python_projects/DCNN_3/data/OD8_k36me3.chr3.bad_quality_impl.b25.sub_4700000_4700300.bedgraph\n",
      "/Users/dashabalashova/0_python_projects/DCNN_3/data/OD8_k27ac.chr3.bad_quality_impl.b25.bedgraph\n",
      "/Users/dashabalashova/0_python_projects/DCNN_3/data/OD8_k4me3.chr3.bad_quality_impl.b25.bedgraph\n"
     ]
    },
    {
     "name": "stderr",
     "output_type": "stream",
     "text": [
      "100% (9 of 9) |##########################| Elapsed Time: 0:00:01 Time:  0:00:01\n"
     ]
    },
    {
     "name": "stdout",
     "output_type": "stream",
     "text": [
      "/Users/dashabalashova/0_python_projects/DCNN_3/data/OD8_k36me3.chr3.good_quality_check.b25.bedgraph\n"
     ]
    },
    {
     "name": "stderr",
     "output_type": "stream",
     "text": [
      "100% (9 of 9) |##########################| Elapsed Time: 0:00:00 Time:  0:00:00\n"
     ]
    },
    {
     "name": "stdout",
     "output_type": "stream",
     "text": [
      "WARNING:tensorflow:From /Users/dashabalashova/miniconda3/lib/python3.6/site-packages/tensorflow/python/framework/op_def_library.py:263: colocate_with (from tensorflow.python.framework.ops) is deprecated and will be removed in a future version.\n",
      "Instructions for updating:\n",
      "Colocations handled automatically by placer.\n",
      "WARNING:tensorflow:From /Users/dashabalashova/miniconda3/lib/python3.6/site-packages/tensorflow/python/ops/math_ops.py:3066: to_int32 (from tensorflow.python.ops.math_ops) is deprecated and will be removed in a future version.\n",
      "Instructions for updating:\n",
      "Use tf.cast instead.\n"
     ]
    },
    {
     "name": "stderr",
     "output_type": "stream",
     "text": [
      " 11% (1 of 9) |##                        | Elapsed Time: 0:00:00 ETA:  00:00:00"
     ]
    },
    {
     "name": "stdout",
     "output_type": "stream",
     "text": [
      "OD8_k36me3.chr3.b25.prediction\n",
      "OD8_k36me3.chr3.b25.prediction\n",
      "called\n",
      "/Users/dashabalashova/0_python_projects/DCNN_3/data/OD8_k36me3.chr3.bad_quality_impl.b25.sub_4700000_4700300.bedgraph\n"
     ]
    },
    {
     "name": "stderr",
     "output_type": "stream",
     "text": [
      "100% (9 of 9) |##########################| Elapsed Time: 0:00:00 Time:  0:00:00\n"
     ]
    },
    {
     "name": "stdout",
     "output_type": "stream",
     "text": [
      "low quality signal/noise = 2.285714285714286\n",
      "good quality signal/noise = 2.7837837837837838\n",
      "prediction signal/noise = 1.1562970139434308\n"
     ]
    }
   ],
   "source": [
    "'''\n",
    "Specify parameters and launch function to apply CNN without data preprocessing \n",
    "\n",
    ":param BOUNDS_IMPL_1: dict, for example, BOUNDS_IMPL_1 = {'start': int, 'end': int} or BOUNDS_IMPL_2 = None - basepairs bounds for implementation\n",
    ":param X_FILES_IMPL: list of str - directions to data files(.bedggraph), the first one is target for quallity improvement, other are helpers\n",
    ":param Y_FILE_CHECK: str - direction to data file(.bedgraph) of good quality track for the comparison with the result\n",
    ":param MODEL_IMPL_NAME_1: str - pre-trained model\n",
    ":param OUT_NAME_1: str - the output name for bedgraph and bigwig\n",
    "\n",
    ":result: files 'OUT_NAME_2.bedgraph' and 'OUT_NAME_2.bw' in 'CODA_PATH/output' directory\n",
    "'''\n",
    "\n",
    "BOUNDS_IMPL_1 = {'start': 4700000, 'end': 4700300}\n",
    "X_FILES_IMPL = [DATA_PATH + 'OD8_k36me3.chr3.bad_quality_impl.b25.bedgraph', DATA_PATH + 'OD8_k27ac.chr3.bad_quality_impl.b25.bedgraph', DATA_PATH + 'OD8_k4me3.chr3.bad_quality_impl.b25.bedgraph']\n",
    "Y_FILE_CHECK = DATA_PATH + 'OD8_k36me3.chr3.good_quality_check.b25.bedgraph'\n",
    "MODEL_IMPL_NAME_1 = 'OD8.k36me3.chr3.n_train_10000.h5' \n",
    "OUT_NAME_1 = 'OD8_k36me3.chr3.b25.prediction'\n",
    "\n",
    "apply_wout_data_preprocessing(X_FILES_IMPL, Y_FILE_CHECK, \n",
    "                              MODEL_IMPL_NAME_1, OUT_NAME_1, \n",
    "                              bounds = BOUNDS_IMPL_1)\n"
   ]
  },
  {
   "cell_type": "code",
   "execution_count": 22,
   "metadata": {},
   "outputs": [],
   "source": [
    "'''\n",
    "Specify parameters and launch function to apply CNN with data preprocessing \n",
    "\n",
    ":param BOUNDS_IMPL_2: dict, for example, BOUNDS_IMPL_2 = {'start': int, 'end': int} or BOUNDS_IMPL_2 = None - basepairs bounds for implementation\n",
    ":param HISTONE_IMPL: str - the target applying histine modification\n",
    ":param HELPERS_IMPL: list of str - histone modifications(same as in trained model) for model prediction quality improvement\n",
    ":param CHROM_IMPL: str - name of the chromosome for implementation\n",
    ":param MODEL_IMPL_NAME_2: str - pre-trained model\n",
    ":param OUT_NAME_2: str - the output name for bedgraph and bigwig\n",
    "\n",
    ":result: files 'OUT_NAME_2.bedgraph' and 'OUT_NAME_2.bw' in 'CODA_PATH/output' directory\n",
    "'''\n",
    "\n",
    "BOUNDS_IMPL_2 = {'start': 4700000, 'end': 4800000}\n",
    "HISTONE_IMPL = 'k36me3'\n",
    "HELPERS_IMPL = ['k27ac', 'k4me3'] \n",
    "CHROM_IMPL = 'chr3' \n",
    "MODEL_IMPL_NAME_2 = 'OD8.k36me3.chr3.n_train_10000.h5' \n",
    "OUT_NAME_2 = 'OD8_k36me3.chr3.b25.prediction'\n",
    "\n",
    "apply_w_data_preprocessing(HISTONE_IMPL, HELPERS_IMPL, CHROM_IMPL, \n",
    "                           MODEL_IMPL_NAME_2, OUT_NAME_2, \n",
    "                           bounds = BOUNDS_IMPL_2)\n"
   ]
  }
 ],
 "metadata": {
  "kernelspec": {
   "display_name": "Python 3",
   "language": "python",
   "name": "python3"
  },
  "language_info": {
   "codemirror_mode": {
    "name": "ipython",
    "version": 3
   },
   "file_extension": ".py",
   "mimetype": "text/x-python",
   "name": "python",
   "nbconvert_exporter": "python",
   "pygments_lexer": "ipython3",
   "version": "3.6.5"
  }
 },
 "nbformat": 4,
 "nbformat_minor": 2
}
